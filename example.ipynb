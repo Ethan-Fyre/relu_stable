{
 "cells": [
  {
   "cell_type": "code",
   "execution_count": null,
   "metadata": {},
   "outputs": [],
   "source": [
    "# Model Training\n",
    "\n",
    "# To fully train the model, change max_num_training_steps = 100000 in config.json\n",
    "# A fully trained model will be more ReLU stable and hence much faster to verify.\n",
    "!python train.py"
   ]
  },
  {
   "cell_type": "code",
   "execution_count": 2,
   "metadata": {},
   "outputs": [
    {
     "name": "stdout",
     "output_type": "stream",
     "text": [
      "Extracting MNIST_data/train-images-idx3-ubyte.gz\n",
      "Extracting MNIST_data/train-labels-idx1-ubyte.gz\n",
      "Extracting MNIST_data/t10k-images-idx3-ubyte.gz\n",
      "Extracting MNIST_data/t10k-labels-idx1-ubyte.gz\n",
      "Processing model from trained_models/relu_stable\n",
      "2018-10-06 17:05:00.293195: I tensorflow/core/common_runtime/gpu/gpu_device.cc:955] Found device 0 with properties: \n",
      "name: GeForce GTX 1080 Ti\n",
      "major: 6 minor: 1 memoryClockRate (GHz) 1.582\n",
      "pciBusID 0000:0d:00.0\n",
      "Total memory: 10.91GiB\n",
      "Free memory: 10.75GiB\n",
      "2018-10-06 17:05:00.293260: I tensorflow/core/common_runtime/gpu/gpu_device.cc:976] DMA: 0 \n",
      "2018-10-06 17:05:00.293270: I tensorflow/core/common_runtime/gpu/gpu_device.cc:986] 0:   Y \n",
      "2018-10-06 17:05:00.293281: I tensorflow/core/common_runtime/gpu/gpu_device.cc:1045] Creating TensorFlow device (/gpu:0) -> (device: 0, name: GeForce GTX 1080 Ti, pci bus id: 0000:0d:00.0)\n",
      "restored checkpoint for trained_models/relu_stable/checkpoint-10000\n",
      "First eval - no changes\n",
      "natural: 97.31%\n",
      "adversarial: 90.15%\n",
      "  un1n, un2n, un3n: 626.8293, 372.4959, 91.9366\n",
      "Second eval - prune small weights\n",
      "remaining nonzero weights: 187\n",
      "remaining weights proportion: 0.4675\n",
      "remaining nonzero weights: 3431\n",
      "remaining weights proportion: 0.268046875\n",
      "remaining nonzero weights: 130175\n",
      "remaining weights proportion: 0.8301977040816326\n",
      "natural: 97.35%\n",
      "adversarial: 90.11%\n",
      "  un1n, un2n, un3n: 551.3183, 368.706, 92.0925\n",
      "Saving model now\n"
     ]
    }
   ],
   "source": [
    "# Post process the model and convert it into a .mat file\n",
    "# We specify the --do_eval flag to evaluate the accuracy and\n",
    "# ReLU stability of the model before and after post-processing steps.\n",
    "# We specify the --no_relu_prune flag to skip ReLU pruning\n",
    "!python post_process_model.py --model_dir 'trained_models/relu_stable' --output example --do_eval --no_relu_prune"
   ]
  },
  {
   "cell_type": "code",
   "execution_count": 3,
   "metadata": {},
   "outputs": [
    {
     "name": "stdout",
     "output_type": "stream",
     "text": [
      "example\n",
      "\u001b[32mComputing fraction correct...100%|ââââââââââââââââââââââ| Time: 0:00:33\u001b[39m\u001b[K\n",
      "Fraction correct: 0.9735\n",
      "Verifying 1 through 2\n",
      "Academic license - for non-commercial use only\n",
      "Academic license - for non-commercial use only\n",
      "\u001b[32m[info | MIPVerify]: Working on index 1\n",
      "\u001b[39m\u001b[36m[notice | MIPVerify]: Attempting to find adversarial example. Neural net predicted label is 8, target labels are [1, 2, 3, 4, 5, 6, 7, 9, 10]\n",
      "\u001b[39m\u001b[36m[notice | MIPVerify]: Rebuilding model from scratch. This may take some time as we determine upper and lower bounds for the input to each non-linear unit.\n",
      "\u001b[39m\u001b[32m[info | MIPVerify]: Applying Flatten() ... \n",
      "\u001b[39m\u001b[32m[info | MIPVerify]: Applying Linear(784 -> 3136) ... \n",
      "\u001b[39m\u001b[32m[info | MIPVerify]: Applying ReLU() ...\n",
      "\u001b[32m  Calculating upper bounds: 100%|âââââââââââââââââââââââ| Time: 0:00:00\u001b[39m\u001b[K\n",
      "\u001b[32m  Calculating lower bounds: 100%|âââââââââââââââââââââââ| Time: 0:00:00\u001b[39m\u001b[K\n",
      "\u001b[32m[info | MIPVerify]:   Behavior of ReLUs - split: 579, zero_output: 152, linear_in_input: 1958, constant_output: 447\n",
      "\u001b[32m  Imposing relu constraint: 100%|âââââââââââââââââââââââ| Time: 0:00:00\u001b[39m\u001b[K\n",
      "\u001b[32m[info | MIPVerify]: Applying Linear(3136 -> 1568) ... \n",
      "\u001b[39m\u001b[32m[info | MIPVerify]: Applying ReLU() ...\n",
      "\u001b[32m  Calculating upper bounds: 100%|âââââââââââââââââââââââ| Time: 0:00:14\u001b[39m\u001b[K\n",
      "\u001b[32m  Calculating lower bounds: 100%|âââââââââââââââââââââââ| Time: 0:00:03\u001b[39m\u001b[K\n",
      "\u001b[32m[info | MIPVerify]:   Behavior of ReLUs - split: 237, zero_output: 140, linear_in_input: 1191, constant_output: 0\n",
      "\u001b[32m  Imposing relu constraint: 100%|âââââââââââââââââââââââ| Time: 0:00:00\u001b[39m\u001b[K\n",
      "\u001b[32m[info | MIPVerify]: Applying Linear(1568 -> 100) ... \n",
      "\u001b[39m\u001b[32m[info | MIPVerify]: Applying ReLU() ...\n",
      "\u001b[32m  Calculating upper bounds: 100%|âââââââââââââââââââââââ| Time: 0:00:10\u001b[39m\u001b[K\n",
      "\u001b[32m  Calculating lower bounds: 100%|âââââââââââââââââââââââ| Time: 0:00:06\u001b[39m\u001b[K\n",
      "\u001b[32m[info | MIPVerify]:   Behavior of ReLUs - split: 33, zero_output: 11, linear_in_input: 56, constant_output: 0\n",
      "\u001b[39m\u001b[32m[info | MIPVerify]: Applying Linear(100 -> 10) ... \n",
      "\u001b[32m  Calculating upper bounds: 100%|âââââââââââââââââââââââ| Time: 0:00:06\u001b[39m\u001b[K\n",
      "\u001b[32m  Calculating lower bounds: 100%|âââââââââââââââââââââââ| Time: 0:00:06\u001b[39m\u001b[K\n",
      "\u001b[32m[info | MIPVerify]: Number of inputs to maximum function possibly taking maximum value: 5\n",
      "\u001b[39mOptimize a model with 6544 rows, 4057 columns and 238366 nonzeros\n",
      "Variable types: 3203 continuous, 854 integer (854 binary)\n",
      "Coefficient statistics:\n",
      "  Matrix range     [5e-08, 9e+00]\n",
      "  Objective range  [1e+00, 1e+00]\n",
      "  Bounds range     [4e-04, 4e+00]\n",
      "  RHS range        [1e-04, 9e+00]\n",
      "\n",
      "MIP start did not produce a new incumbent solution\n",
      "MIP start violates constraint R786 by 0.056153915\n",
      "\n",
      "Presolve removed 2975 rows and 1457 columns\n",
      "Presolve time: 0.42s\n",
      "\n",
      "Explored 0 nodes (0 simplex iterations) in 0.57 seconds\n",
      "Thread count was 1 (of 40 available processors)\n",
      "\n",
      "Solution count 0\n",
      "\n",
      "Model is infeasible or unbounded\n",
      "Best objective -, best bound -, gap -\n",
      "\u001b[1m\u001b[33mWARNING: \u001b[39m\u001b[22m\u001b[33mGurobi reported infeasible or unbounded. Set InfUnbdInfo=1 for more specific status.\u001b[39m\n",
      "\u001b[1m\u001b[33mWARNING: \u001b[39m\u001b[22m\u001b[33mNot solved to optimality, status: InfeasibleOrUnbounded\u001b[39m\n",
      "\u001b[32m[info | MIPVerify]: Working on index 2\n",
      "\u001b[39m\u001b[36m[notice | MIPVerify]: Attempting to find adversarial example. Neural net predicted label is 3, target labels are [1, 2, 4, 5, 6, 7, 8, 9, 10]\n",
      "\u001b[39m\u001b[36m[notice | MIPVerify]: Rebuilding model from scratch. This may take some time as we determine upper and lower bounds for the input to each non-linear unit.\n",
      "\u001b[39m\u001b[32m[info | MIPVerify]: Applying Flatten() ... \n",
      "\u001b[39m\u001b[32m[info | MIPVerify]: Applying Linear(784 -> 3136) ... \n",
      "\u001b[39m\u001b[32m[info | MIPVerify]: Applying ReLU() ...\n",
      "\u001b[39m\u001b[32m[info | MIPVerify]:   Behavior of ReLUs - split: 533, zero_output: 192, linear_in_input: 1964, constant_output: 447\n",
      "\u001b[39m\u001b[32m[info | MIPVerify]: Applying Linear(3136 -> 1568) ... \n",
      "\u001b[39m\u001b[32m[info | MIPVerify]: Applying ReLU() ...\n",
      "\u001b[32m  Calculating upper bounds: 100%|âââââââââââââââââââââââ| Time: 0:00:08\u001b[39m\u001b[K\n",
      "\u001b[32m  Calculating lower bounds: 100%|âââââââââââââââââââââââ| Time: 0:00:02\u001b[39m\u001b[K\n",
      "\u001b[32m[info | MIPVerify]:   Behavior of ReLUs - split: 236, zero_output: 202, linear_in_input: 1130, constant_output: 0\n",
      "\u001b[39m\u001b[32m[info | MIPVerify]: Applying Linear(1568 -> 100) ... \n",
      "\u001b[39m\u001b[32m[info | MIPVerify]: Applying ReLU() ...\n",
      "\u001b[32m  Calculating upper bounds: 100%|âââââââââââââââââââââââ| Time: 0:00:07\u001b[39m\u001b[K\n",
      "\u001b[32m  Calculating lower bounds: 100%|âââââââââââââââââââââââ| Time: 0:00:04\u001b[39m\u001b[K\n",
      "\u001b[32m[info | MIPVerify]:   Behavior of ReLUs - split: 29, zero_output: 20, linear_in_input: 51, constant_output: 0\n",
      "\u001b[39m\u001b[32m[info | MIPVerify]: Applying Linear(100 -> 10) ... \n",
      "\u001b[32m  Calculating upper bounds: 100%|âââââââââââââââââââââââ| Time: 0:00:04\u001b[39m\u001b[K\n",
      "\u001b[32m  Calculating lower bounds: 100%|âââââââââââââââââââââââ| Time: 0:00:05\u001b[39m\u001b[K\n",
      "\u001b[32m[info | MIPVerify]: Number of inputs to maximum function possibly taking maximum value: 6\n",
      "\u001b[39mOptimize a model with 6342 rows, 3956 columns and 219098 nonzeros\n",
      "Variable types: 3152 continuous, 804 integer (804 binary)\n",
      "Coefficient statistics:\n",
      "  Matrix range     [2e-08, 9e+00]\n",
      "  Objective range  [1e+00, 1e+00]\n",
      "  Bounds range     [1e-03, 4e+00]\n",
      "  RHS range        [5e-04, 8e+00]\n",
      "\n",
      "MIP start did not produce a new incumbent solution\n",
      "MIP start violates constraint R786 by 0.035628409\n",
      "\n",
      "Presolve removed 2989 rows and 1570 columns\n",
      "Presolve time: 0.72s\n",
      "Presolved: 3353 rows, 2386 columns, 210739 nonzeros\n",
      "Variable types: 1584 continuous, 802 integer (802 binary)\n",
      "\n",
      "Root relaxation: infeasible, 341 iterations, 0.04 seconds\n",
      "\n",
      "    Nodes    |    Current Node    |     Objective Bounds      |     Work\n",
      " Expl Unexpl |  Obj  Depth IntInf | Incumbent    BestBd   Gap | It/Node Time\n",
      "\n",
      "     0     0 infeasible    0               - infeasible      -     -    1s\n",
      "\n",
      "Explored 0 nodes (341 simplex iterations) in 1.46 seconds\n",
      "Thread count was 32 (of 40 available processors)\n",
      "\n",
      "Solution count 0\n",
      "\n",
      "Model is infeasible or unbounded\n",
      "Best objective -, best bound -, gap -\n",
      "\u001b[1m\u001b[33mWARNING: \u001b[39m\u001b[22m\u001b[33mNot solved to optimality, status: InfeasibleOrUnbounded\u001b[39m\n"
     ]
    }
   ],
   "source": [
    "# We verify just the first 2 images against eps=0.1 for brevity's sake\n",
    "# If you do not pass in a starting and ending index, it will\n",
    "# verify the entire test set.\n",
    "!./verification/verify.sh example 0.1 1 2"
   ]
  },
  {
   "cell_type": "code",
   "execution_count": 4,
   "metadata": {},
   "outputs": [
    {
     "name": "stdout",
     "output_type": "stream",
     "text": [
      "ProcessedSolveStatus                                ProvablyRobust\r\n",
      "./verification/results/example__linf-norm-bound...               2\r\n",
      "                                                    BuildTime  SolveTime  \\\r\n",
      "./verification/results/example__linf-norm-bound...  54.631687   1.013723   \r\n",
      "\r\n",
      "                                                    TotalTime  \r\n",
      "./verification/results/example__linf-norm-bound...   55.64541  \r\n"
     ]
    }
   ],
   "source": [
    "# Parse the result file\n",
    "!python parser/parse_csv.py --csv_name './verification/results/example__linf-norm-bounded-0.1__Inf__0.0/summary.csv'"
   ]
  },
  {
   "cell_type": "code",
   "execution_count": 5,
   "metadata": {},
   "outputs": [
    {
     "name": "stdout",
     "output_type": "stream",
     "text": [
      "For file verification/logs/example.csv, it has 823.5 unstable relus on average\r\n",
      "Layer 1: 556.0, Layer 2: 236.5, Layer 3: 31.0\r\n"
     ]
    }
   ],
   "source": [
    "# Parse the log file\n",
    "!./parser/convert_log.sh 'example'\n",
    "!python parser/parse_log.py --log_name 'example'"
   ]
  },
  {
   "cell_type": "code",
   "execution_count": null,
   "metadata": {
    "collapsed": true
   },
   "outputs": [],
   "source": []
  }
 ],
 "metadata": {
  "kernelspec": {
   "display_name": "Python 3",
   "language": "python",
   "name": "python3"
  },
  "language_info": {
   "codemirror_mode": {
    "name": "ipython",
    "version": 3
   },
   "file_extension": ".py",
   "mimetype": "text/x-python",
   "name": "python",
   "nbconvert_exporter": "python",
   "pygments_lexer": "ipython3",
   "version": "3.7.5"
  }
 },
 "nbformat": 4,
 "nbformat_minor": 2
}
