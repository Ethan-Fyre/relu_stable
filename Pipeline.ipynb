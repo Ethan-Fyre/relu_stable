{
 "cells": [
  {
   "cell_type": "code",
   "execution_count": 1,
   "metadata": {},
   "outputs": [],
   "source": [
    "name = 'testrelu'\n",
    "eps = 0.1\n",
    "st_idx = 1\n",
    "end_idx = 10"
   ]
  },
  {
   "cell_type": "code",
   "execution_count": null,
   "metadata": {},
   "outputs": [],
   "source": [
    "# Model Training\n",
    "\n",
    "# To fully train the model, change max_num_training_steps = 100000 in config.json\n",
    "# A fully trained model will be more ReLU stable and hence much faster to verify.\n",
    "!python train.py"
   ]
  },
  {
   "cell_type": "code",
   "execution_count": null,
   "metadata": {},
   "outputs": [],
   "source": [
    "# Post process the model and convert it into a .mat file\n",
    "# We specify the --do_eval flag to evaluate the accuracy and\n",
    "# ReLU stability of the model before and after post-processing steps.\n",
    "!python post_process_model.py --model_dir 'trained_models/relu_stable' --output name --do_eval "
   ]
  },
  {
   "cell_type": "code",
   "execution_count": null,
   "metadata": {},
   "outputs": [],
   "source": [
    "!julia --color=yes ./verification/verify_MNIST.jl {name} {eps} {st_idx} {end_idx} | wtee -a ./verification/logs/{name}.log"
   ]
  },
  {
   "cell_type": "code",
   "execution_count": 7,
   "metadata": {},
   "outputs": [
    {
     "name": "stdout",
     "output_type": "stream",
     "text": [
      "ProcessedSolveStatus                                ProvablyRobust     ...      Vulnerable\n",
      "./verification/results/testrelu__linf-norm-boun...               8     ...               1\n",
      "\n",
      "[1 rows x 3 columns]\n",
      "                                                    BuildTime    ...      TotalTime\n",
      "./verification/results/testrelu__linf-norm-boun...   8.553096    ...      23.724329\n",
      "\n",
      "[1 rows x 3 columns]\n"
     ]
    }
   ],
   "source": [
    "# Parse the result file\n",
    "!python parser/parse_csv.py --csv_name ./verification/results/{name}__linf-norm-bounded-0.1__Inf__0.0/summary.csv"
   ]
  },
  {
   "cell_type": "code",
   "execution_count": 9,
   "metadata": {},
   "outputs": [
    {
     "name": "stdout",
     "output_type": "stream",
     "text": [
      "For file verification/logs/testrelu.csv, it has 498.90000000000003 unstable relus on average\n",
      "Layer 1: 311.1, Layer 2: 169.8, Layer 3: 18.0\n"
     ]
    }
   ],
   "source": [
    "# Parse the log file\n",
    "!bash ./parser/convert_log.sh {name}\n",
    "!python parser/parse_log.py --log_name {name}"
   ]
  },
  {
   "cell_type": "code",
   "execution_count": null,
   "metadata": {},
   "outputs": [],
   "source": []
  }
 ],
 "metadata": {
  "kernelspec": {
   "display_name": "Python 3",
   "language": "python",
   "name": "python3"
  },
  "language_info": {
   "codemirror_mode": {
    "name": "ipython",
    "version": 3
   },
   "file_extension": ".py",
   "mimetype": "text/x-python",
   "name": "python",
   "nbconvert_exporter": "python",
   "pygments_lexer": "ipython3",
   "version": "3.7.5"
  }
 },
 "nbformat": 4,
 "nbformat_minor": 2
}
