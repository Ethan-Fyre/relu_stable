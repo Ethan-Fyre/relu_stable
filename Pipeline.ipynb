{
 "cells": [
  {
   "cell_type": "code",
   "execution_count": 1,
   "metadata": {},
   "outputs": [],
   "source": [
    "name = 'testrelu'\n",
    "eps = 0.1\n",
    "st_idx = 1\n",
    "end_idx = 10"
   ]
  },
  {
   "cell_type": "code",
   "execution_count": null,
   "metadata": {},
   "outputs": [],
   "source": [
    "# Model Training\n",
    "\n",
    "# To fully train the model, change max_num_training_steps = 100000 in config.json\n",
    "# A fully trained model will be more ReLU stable and hence much faster to verify.\n",
    "!python train.py"
   ]
  },
  {
   "cell_type": "code",
   "execution_count": null,
   "metadata": {},
   "outputs": [],
   "source": [
    "# Post process the model and convert it into a .mat file\n",
    "# We specify the --do_eval flag to evaluate the accuracy and\n",
    "# ReLU stability of the model before and after post-processing steps.\n",
    "!python post_process_model.py --model_dir 'trained_models/relu_stable' --output name --do_eval "
   ]
  },
  {
   "cell_type": "code",
   "execution_count": null,
   "metadata": {},
   "outputs": [],
   "source": [
    "!julia --color=yes ./verification/verify_MNIST.jl {name} {eps} {st_idx} {end_idx} | wtee -a ./verification/logs/{name}.log"
   ]
  },
  {
   "cell_type": "code",
   "execution_count": 7,
   "metadata": {},
   "outputs": [
    {
     "name": "stdout",
     "output_type": "stream",
     "text": [
      "ProcessedSolveStatus                                ProvablyRobust     ...      Vulnerable\n",
      "./verification/results/testrelu__linf-norm-boun...               8     ...               1\n",
      "\n",
      "[1 rows x 3 columns]\n",
      "                                                    BuildTime    ...      TotalTime\n",
      "./verification/results/testrelu__linf-norm-boun...   8.553096    ...      23.724329\n",
      "\n",
      "[1 rows x 3 columns]\n"
     ]
    }
   ],
   "source": [
    "# Parse the result file\n",
    "!python parser/parse_csv.py --csv_name ./verification/results/{name}__linf-norm-bounded-0.1__Inf__0.0/summary.csv"
   ]
  },
  {
   "cell_type": "code",
   "execution_count": 9,
   "metadata": {},
   "outputs": [
    {
     "name": "stdout",
     "output_type": "stream",
     "text": [
      "For file verification/logs/testrelu.csv, it has 498.90000000000003 unstable relus on average\n",
      "Layer 1: 311.1, Layer 2: 169.8, Layer 3: 18.0\n"
     ]
    }
   ],
   "source": [
    "# Parse the log file\n",
    "!bash ./parser/convert_log.sh {name}\n",
    "!python parser/parse_log.py --log_name {name}"
   ]
  },
  {
   "cell_type": "code",
   "execution_count": null,
   "metadata": {},
   "outputs": [],
   "source": [
    "import tensorflow as tf\n",
    "converter = tf.lite.TFLiteConverter.from_saved_model(saved_model_dir)\n",
    "converter.optimizations = [tf.lite.Optimize.DEFAULT]\n",
    "converter.target_spec.supported_types = [tf.lite.constants.FLOAT16]\n",
    "tflite_quant_model = converter.convert()\n"
   ]
  },
  {
   "cell_type": "code",
   "execution_count": 1,
   "metadata": {
    "scrolled": false
   },
   "outputs": [
    {
     "name": "stdout",
     "output_type": "stream",
     "text": [
      "WARNING:tensorflow:From C:\\Users\\jonat\\Anaconda3\\envs\\vdl\\lib\\site-packages\\tensorflow_core\\python\\ops\\resource_variable_ops.py:1635: calling BaseResourceVariable.__init__ (from tensorflow.python.ops.resource_variable_ops) with constraint is deprecated and will be removed in a future version.\n",
      "Instructions for updating:\n",
      "If using Keras pass *_constraint arguments to layers.\n"
     ]
    }
   ],
   "source": [
    "from __future__ import absolute_import\n",
    "from __future__ import division\n",
    "from __future__ import print_function\n",
    "\n",
    "from collections import namedtuple\n",
    "from datetime import datetime\n",
    "import json\n",
    "import math\n",
    "import os\n",
    "import sys\n",
    "import time\n",
    "import operator\n",
    "from tensorflow.python import pywrap_tensorflow\n",
    "\n",
    "import numpy as np\n",
    "import tensorflow as tf\n",
    "from tensorflow.examples.tutorials.mnist import input_data\n",
    "import scipy.io as sio\n",
    "\n",
    "from pgd_attack import LinfPGDAttack\n",
    "import models.MNIST_naive_ia\n",
    "import models.MNIST_naive_ia_masked\n",
    "from tqdm import trange\n",
    "\n",
    "saved_model_dir = 'trained_models/relu_stable'\n",
    "with open('config.json') as config_file:\n",
    "    config = json.load(config_file)\n",
    "\n",
    "model = models.MNIST_naive_ia.Model(config)\n"
   ]
  },
  {
   "cell_type": "code",
   "execution_count": 3,
   "metadata": {},
   "outputs": [
    {
     "ename": "ValueError",
     "evalue": "Expected a Trackable object for export, got <models.MNIST_naive_ia.Model object at 0x0000027A79CF87C8>.",
     "output_type": "error",
     "traceback": [
      "\u001b[1;31m---------------------------------------------------------------------------\u001b[0m",
      "\u001b[1;31mValueError\u001b[0m                                Traceback (most recent call last)",
      "\u001b[1;32m<ipython-input-3-a3e073c489e6>\u001b[0m in \u001b[0;36m<module>\u001b[1;34m\u001b[0m\n\u001b[1;32m----> 1\u001b[1;33m \u001b[0mtf\u001b[0m\u001b[1;33m.\u001b[0m\u001b[0msaved_model\u001b[0m\u001b[1;33m.\u001b[0m\u001b[0msave\u001b[0m\u001b[1;33m(\u001b[0m\u001b[0mmodel\u001b[0m\u001b[1;33m,\u001b[0m \u001b[1;34m\"./trained_model\"\u001b[0m\u001b[1;33m)\u001b[0m\u001b[1;33m\u001b[0m\u001b[1;33m\u001b[0m\u001b[0m\n\u001b[0m\u001b[0;32m      2\u001b[0m \u001b[1;33m\u001b[0m\u001b[0m\n",
      "\u001b[1;32m~\\Anaconda3\\envs\\vdl\\lib\\site-packages\\tensorflow_core\\python\\saved_model\\save.py\u001b[0m in \u001b[0;36msave\u001b[1;34m(obj, export_dir, signatures, options)\u001b[0m\n\u001b[0;32m    878\u001b[0m   \u001b[1;32mif\u001b[0m \u001b[1;32mnot\u001b[0m \u001b[0misinstance\u001b[0m\u001b[1;33m(\u001b[0m\u001b[0mobj\u001b[0m\u001b[1;33m,\u001b[0m \u001b[0mbase\u001b[0m\u001b[1;33m.\u001b[0m\u001b[0mTrackable\u001b[0m\u001b[1;33m)\u001b[0m\u001b[1;33m:\u001b[0m\u001b[1;33m\u001b[0m\u001b[1;33m\u001b[0m\u001b[0m\n\u001b[0;32m    879\u001b[0m     raise ValueError(\n\u001b[1;32m--> 880\u001b[1;33m         \"Expected a Trackable object for export, got {}.\".format(obj))\n\u001b[0m\u001b[0;32m    881\u001b[0m   \u001b[0moptions\u001b[0m \u001b[1;33m=\u001b[0m \u001b[0moptions\u001b[0m \u001b[1;32mor\u001b[0m \u001b[0msave_options\u001b[0m\u001b[1;33m.\u001b[0m\u001b[0mSaveOptions\u001b[0m\u001b[1;33m(\u001b[0m\u001b[1;33m)\u001b[0m\u001b[1;33m\u001b[0m\u001b[1;33m\u001b[0m\u001b[0m\n\u001b[0;32m    882\u001b[0m \u001b[1;33m\u001b[0m\u001b[0m\n",
      "\u001b[1;31mValueError\u001b[0m: Expected a Trackable object for export, got <models.MNIST_naive_ia.Model object at 0x0000027A79CF87C8>."
     ]
    }
   ],
   "source": [
    "tf.saved_model.save(model, \"./trained_model\")\n",
    "\n"
   ]
  },
  {
   "cell_type": "code",
   "execution_count": null,
   "metadata": {},
   "outputs": [],
   "source": []
  }
 ],
 "metadata": {
  "kernelspec": {
   "display_name": "Python 3",
   "language": "python",
   "name": "python3"
  },
  "language_info": {
   "codemirror_mode": {
    "name": "ipython",
    "version": 3
   },
   "file_extension": ".py",
   "mimetype": "text/x-python",
   "name": "python",
   "nbconvert_exporter": "python",
   "pygments_lexer": "ipython3",
   "version": "3.7.5"
  }
 },
 "nbformat": 4,
 "nbformat_minor": 2
}
